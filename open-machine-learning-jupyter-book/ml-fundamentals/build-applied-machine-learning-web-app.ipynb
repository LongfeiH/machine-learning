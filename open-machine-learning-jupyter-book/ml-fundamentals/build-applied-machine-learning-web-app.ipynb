{
 "cells": [
  {
   "cell_type": "code",
   "execution_count": null,
   "id": "4f0adf6d",
   "metadata": {
    "tags": [
     "hide-cell"
    ]
   },
   "outputs": [],
   "source": [
    "# Install the necessary dependencies\n",
    "\n",
    "import sys\n",
    "import os\n",
    "!{sys.executable} -m pip install --quiet pandas scikit-learn numpy matplotlib jupyterlab_myst ipython requests flask"
   ]
  },
  {
   "cell_type": "markdown",
   "id": "2b3082a2",
   "metadata": {
    "tags": [
     "remove-cell"
    ]
   },
   "source": [
    "---\n",
    "license:\n",
    "    code: MIT\n",
    "    content: CC-BY-4.0\n",
    "github: https://github.com/ocademy-ai/machine-learning\n",
    "venue: By Ocademy\n",
    "open_access: true\n",
    "bibliography:\n",
    "  - https://raw.githubusercontent.com/ocademy-ai/machine-learning/main/open-machine-learning-jupyter-book/references.bib\n",
    "---"
   ]
  },
  {
   "cell_type": "markdown",
   "id": "3373c2ea",
   "metadata": {},
   "source": [
    "# Build a Cuisine Recommender Web App\n",
    "\n",
    "In this lesson, you will build a classification model using some of the techniques you have learned in previous lessons and with the delicious cuisine dataset used throughout this series. In addition, you will build a small web app to use a saved model, leveraging Onnx's web runtime.\n",
    "One of the most useful practical uses of machine learning is building recommendation systems, and you can take the first step in that direction today!\n",
    "\n",
    "## Pre-lecture quiz\n",
    "\n",
    "In this lesson you will learn:\n",
    "\n",
    "- How to build a model and save it as an Onnx model\n",
    "- How to use Netron to inspect the model\n",
    "- How to use your model in a web app for inference\n",
    "\n",
    "## Build your model\n",
    "\n",
    "Building applied ML systems is an important part of leveraging these technologies for your business systems. You can use models within your web applications (and thus use them in an offline context if needed) by using Onnx. \n",
    "\n",
    "In this lesson, you can build a basic JavaScript-based system for inference. First, however, you need to train a model and convert it for use with Onnx.\n",
    "\n",
    "## Exercise - train classification model\n",
    "\n",
    "First, train a classification model using the cleaned cuisines dataset we used. \n",
    "\n",
    "Start by importing useful libraries:"
   ]
  },
  {
   "cell_type": "code",
   "execution_count": 1,
   "id": "c1e84ba3",
   "metadata": {},
   "outputs": [],
   "source": [
    "import pandas as pd "
   ]
  },
  {
   "cell_type": "markdown",
   "id": "4821e2ff",
   "metadata": {},
   "source": [
    "Then, work with your data in the same way you did in previous lessons, by reading a CSV file using `read_csv()`:"
   ]
  },
  {
   "cell_type": "code",
   "execution_count": 2,
   "id": "4e4f2238",
   "metadata": {},
   "outputs": [
    {
     "data": {
      "text/html": [
       "<div>\n",
       "<style scoped>\n",
       "    .dataframe tbody tr th:only-of-type {\n",
       "        vertical-align: middle;\n",
       "    }\n",
       "\n",
       "    .dataframe tbody tr th {\n",
       "        vertical-align: top;\n",
       "    }\n",
       "\n",
       "    .dataframe thead th {\n",
       "        text-align: right;\n",
       "    }\n",
       "</style>\n",
       "<table border=\"1\" class=\"dataframe\">\n",
       "  <thead>\n",
       "    <tr style=\"text-align: right;\">\n",
       "      <th></th>\n",
       "      <th>Unnamed: 0</th>\n",
       "      <th>cuisine</th>\n",
       "      <th>almond</th>\n",
       "      <th>angelica</th>\n",
       "      <th>anise</th>\n",
       "      <th>anise_seed</th>\n",
       "      <th>apple</th>\n",
       "      <th>apple_brandy</th>\n",
       "      <th>apricot</th>\n",
       "      <th>armagnac</th>\n",
       "      <th>...</th>\n",
       "      <th>whiskey</th>\n",
       "      <th>white_bread</th>\n",
       "      <th>white_wine</th>\n",
       "      <th>whole_grain_wheat_flour</th>\n",
       "      <th>wine</th>\n",
       "      <th>wood</th>\n",
       "      <th>yam</th>\n",
       "      <th>yeast</th>\n",
       "      <th>yogurt</th>\n",
       "      <th>zucchini</th>\n",
       "    </tr>\n",
       "  </thead>\n",
       "  <tbody>\n",
       "    <tr>\n",
       "      <th>0</th>\n",
       "      <td>0</td>\n",
       "      <td>indian</td>\n",
       "      <td>0</td>\n",
       "      <td>0</td>\n",
       "      <td>0</td>\n",
       "      <td>0</td>\n",
       "      <td>0</td>\n",
       "      <td>0</td>\n",
       "      <td>0</td>\n",
       "      <td>0</td>\n",
       "      <td>...</td>\n",
       "      <td>0</td>\n",
       "      <td>0</td>\n",
       "      <td>0</td>\n",
       "      <td>0</td>\n",
       "      <td>0</td>\n",
       "      <td>0</td>\n",
       "      <td>0</td>\n",
       "      <td>0</td>\n",
       "      <td>0</td>\n",
       "      <td>0</td>\n",
       "    </tr>\n",
       "    <tr>\n",
       "      <th>1</th>\n",
       "      <td>1</td>\n",
       "      <td>indian</td>\n",
       "      <td>1</td>\n",
       "      <td>0</td>\n",
       "      <td>0</td>\n",
       "      <td>0</td>\n",
       "      <td>0</td>\n",
       "      <td>0</td>\n",
       "      <td>0</td>\n",
       "      <td>0</td>\n",
       "      <td>...</td>\n",
       "      <td>0</td>\n",
       "      <td>0</td>\n",
       "      <td>0</td>\n",
       "      <td>0</td>\n",
       "      <td>0</td>\n",
       "      <td>0</td>\n",
       "      <td>0</td>\n",
       "      <td>0</td>\n",
       "      <td>0</td>\n",
       "      <td>0</td>\n",
       "    </tr>\n",
       "    <tr>\n",
       "      <th>2</th>\n",
       "      <td>2</td>\n",
       "      <td>indian</td>\n",
       "      <td>0</td>\n",
       "      <td>0</td>\n",
       "      <td>0</td>\n",
       "      <td>0</td>\n",
       "      <td>0</td>\n",
       "      <td>0</td>\n",
       "      <td>0</td>\n",
       "      <td>0</td>\n",
       "      <td>...</td>\n",
       "      <td>0</td>\n",
       "      <td>0</td>\n",
       "      <td>0</td>\n",
       "      <td>0</td>\n",
       "      <td>0</td>\n",
       "      <td>0</td>\n",
       "      <td>0</td>\n",
       "      <td>0</td>\n",
       "      <td>0</td>\n",
       "      <td>0</td>\n",
       "    </tr>\n",
       "    <tr>\n",
       "      <th>3</th>\n",
       "      <td>3</td>\n",
       "      <td>indian</td>\n",
       "      <td>0</td>\n",
       "      <td>0</td>\n",
       "      <td>0</td>\n",
       "      <td>0</td>\n",
       "      <td>0</td>\n",
       "      <td>0</td>\n",
       "      <td>0</td>\n",
       "      <td>0</td>\n",
       "      <td>...</td>\n",
       "      <td>0</td>\n",
       "      <td>0</td>\n",
       "      <td>0</td>\n",
       "      <td>0</td>\n",
       "      <td>0</td>\n",
       "      <td>0</td>\n",
       "      <td>0</td>\n",
       "      <td>0</td>\n",
       "      <td>0</td>\n",
       "      <td>0</td>\n",
       "    </tr>\n",
       "    <tr>\n",
       "      <th>4</th>\n",
       "      <td>4</td>\n",
       "      <td>indian</td>\n",
       "      <td>0</td>\n",
       "      <td>0</td>\n",
       "      <td>0</td>\n",
       "      <td>0</td>\n",
       "      <td>0</td>\n",
       "      <td>0</td>\n",
       "      <td>0</td>\n",
       "      <td>0</td>\n",
       "      <td>...</td>\n",
       "      <td>0</td>\n",
       "      <td>0</td>\n",
       "      <td>0</td>\n",
       "      <td>0</td>\n",
       "      <td>0</td>\n",
       "      <td>0</td>\n",
       "      <td>0</td>\n",
       "      <td>0</td>\n",
       "      <td>1</td>\n",
       "      <td>0</td>\n",
       "    </tr>\n",
       "  </tbody>\n",
       "</table>\n",
       "<p>5 rows × 382 columns</p>\n",
       "</div>"
      ],
      "text/plain": [
       "   Unnamed: 0 cuisine  almond  angelica  anise  anise_seed  apple  \\\n",
       "0           0  indian       0         0      0           0      0   \n",
       "1           1  indian       1         0      0           0      0   \n",
       "2           2  indian       0         0      0           0      0   \n",
       "3           3  indian       0         0      0           0      0   \n",
       "4           4  indian       0         0      0           0      0   \n",
       "\n",
       "   apple_brandy  apricot  armagnac  ...  whiskey  white_bread  white_wine  \\\n",
       "0             0        0         0  ...        0            0           0   \n",
       "1             0        0         0  ...        0            0           0   \n",
       "2             0        0         0  ...        0            0           0   \n",
       "3             0        0         0  ...        0            0           0   \n",
       "4             0        0         0  ...        0            0           0   \n",
       "\n",
       "   whole_grain_wheat_flour  wine  wood  yam  yeast  yogurt  zucchini  \n",
       "0                        0     0     0    0      0       0         0  \n",
       "1                        0     0     0    0      0       0         0  \n",
       "2                        0     0     0    0      0       0         0  \n",
       "3                        0     0     0    0      0       0         0  \n",
       "4                        0     0     0    0      0       1         0  \n",
       "\n",
       "[5 rows x 382 columns]"
      ]
     },
     "execution_count": 2,
     "metadata": {},
     "output_type": "execute_result"
    }
   ],
   "source": [
    "data = pd.read_csv('https://static-1300131294.cos.ap-shanghai.myqcloud.com/data/ml-fundamental/cleaned_cuisines.csv')\n",
    "data.head()"
   ]
  },
  {
   "cell_type": "markdown",
   "id": "d72dd91f",
   "metadata": {},
   "source": [
    "Remove the first two unnecessary columns and save the remaining data as 'X':"
   ]
  },
  {
   "cell_type": "code",
   "execution_count": 3,
   "id": "8168396d",
   "metadata": {},
   "outputs": [
    {
     "data": {
      "text/html": [
       "<div>\n",
       "<style scoped>\n",
       "    .dataframe tbody tr th:only-of-type {\n",
       "        vertical-align: middle;\n",
       "    }\n",
       "\n",
       "    .dataframe tbody tr th {\n",
       "        vertical-align: top;\n",
       "    }\n",
       "\n",
       "    .dataframe thead th {\n",
       "        text-align: right;\n",
       "    }\n",
       "</style>\n",
       "<table border=\"1\" class=\"dataframe\">\n",
       "  <thead>\n",
       "    <tr style=\"text-align: right;\">\n",
       "      <th></th>\n",
       "      <th>almond</th>\n",
       "      <th>angelica</th>\n",
       "      <th>anise</th>\n",
       "      <th>anise_seed</th>\n",
       "      <th>apple</th>\n",
       "      <th>apple_brandy</th>\n",
       "      <th>apricot</th>\n",
       "      <th>armagnac</th>\n",
       "      <th>artemisia</th>\n",
       "      <th>artichoke</th>\n",
       "      <th>...</th>\n",
       "      <th>whiskey</th>\n",
       "      <th>white_bread</th>\n",
       "      <th>white_wine</th>\n",
       "      <th>whole_grain_wheat_flour</th>\n",
       "      <th>wine</th>\n",
       "      <th>wood</th>\n",
       "      <th>yam</th>\n",
       "      <th>yeast</th>\n",
       "      <th>yogurt</th>\n",
       "      <th>zucchini</th>\n",
       "    </tr>\n",
       "  </thead>\n",
       "  <tbody>\n",
       "    <tr>\n",
       "      <th>0</th>\n",
       "      <td>0</td>\n",
       "      <td>0</td>\n",
       "      <td>0</td>\n",
       "      <td>0</td>\n",
       "      <td>0</td>\n",
       "      <td>0</td>\n",
       "      <td>0</td>\n",
       "      <td>0</td>\n",
       "      <td>0</td>\n",
       "      <td>0</td>\n",
       "      <td>...</td>\n",
       "      <td>0</td>\n",
       "      <td>0</td>\n",
       "      <td>0</td>\n",
       "      <td>0</td>\n",
       "      <td>0</td>\n",
       "      <td>0</td>\n",
       "      <td>0</td>\n",
       "      <td>0</td>\n",
       "      <td>0</td>\n",
       "      <td>0</td>\n",
       "    </tr>\n",
       "    <tr>\n",
       "      <th>1</th>\n",
       "      <td>1</td>\n",
       "      <td>0</td>\n",
       "      <td>0</td>\n",
       "      <td>0</td>\n",
       "      <td>0</td>\n",
       "      <td>0</td>\n",
       "      <td>0</td>\n",
       "      <td>0</td>\n",
       "      <td>0</td>\n",
       "      <td>0</td>\n",
       "      <td>...</td>\n",
       "      <td>0</td>\n",
       "      <td>0</td>\n",
       "      <td>0</td>\n",
       "      <td>0</td>\n",
       "      <td>0</td>\n",
       "      <td>0</td>\n",
       "      <td>0</td>\n",
       "      <td>0</td>\n",
       "      <td>0</td>\n",
       "      <td>0</td>\n",
       "    </tr>\n",
       "    <tr>\n",
       "      <th>2</th>\n",
       "      <td>0</td>\n",
       "      <td>0</td>\n",
       "      <td>0</td>\n",
       "      <td>0</td>\n",
       "      <td>0</td>\n",
       "      <td>0</td>\n",
       "      <td>0</td>\n",
       "      <td>0</td>\n",
       "      <td>0</td>\n",
       "      <td>0</td>\n",
       "      <td>...</td>\n",
       "      <td>0</td>\n",
       "      <td>0</td>\n",
       "      <td>0</td>\n",
       "      <td>0</td>\n",
       "      <td>0</td>\n",
       "      <td>0</td>\n",
       "      <td>0</td>\n",
       "      <td>0</td>\n",
       "      <td>0</td>\n",
       "      <td>0</td>\n",
       "    </tr>\n",
       "    <tr>\n",
       "      <th>3</th>\n",
       "      <td>0</td>\n",
       "      <td>0</td>\n",
       "      <td>0</td>\n",
       "      <td>0</td>\n",
       "      <td>0</td>\n",
       "      <td>0</td>\n",
       "      <td>0</td>\n",
       "      <td>0</td>\n",
       "      <td>0</td>\n",
       "      <td>0</td>\n",
       "      <td>...</td>\n",
       "      <td>0</td>\n",
       "      <td>0</td>\n",
       "      <td>0</td>\n",
       "      <td>0</td>\n",
       "      <td>0</td>\n",
       "      <td>0</td>\n",
       "      <td>0</td>\n",
       "      <td>0</td>\n",
       "      <td>0</td>\n",
       "      <td>0</td>\n",
       "    </tr>\n",
       "    <tr>\n",
       "      <th>4</th>\n",
       "      <td>0</td>\n",
       "      <td>0</td>\n",
       "      <td>0</td>\n",
       "      <td>0</td>\n",
       "      <td>0</td>\n",
       "      <td>0</td>\n",
       "      <td>0</td>\n",
       "      <td>0</td>\n",
       "      <td>0</td>\n",
       "      <td>0</td>\n",
       "      <td>...</td>\n",
       "      <td>0</td>\n",
       "      <td>0</td>\n",
       "      <td>0</td>\n",
       "      <td>0</td>\n",
       "      <td>0</td>\n",
       "      <td>0</td>\n",
       "      <td>0</td>\n",
       "      <td>0</td>\n",
       "      <td>1</td>\n",
       "      <td>0</td>\n",
       "    </tr>\n",
       "  </tbody>\n",
       "</table>\n",
       "<p>5 rows × 380 columns</p>\n",
       "</div>"
      ],
      "text/plain": [
       "   almond  angelica  anise  anise_seed  apple  apple_brandy  apricot  \\\n",
       "0       0         0      0           0      0             0        0   \n",
       "1       1         0      0           0      0             0        0   \n",
       "2       0         0      0           0      0             0        0   \n",
       "3       0         0      0           0      0             0        0   \n",
       "4       0         0      0           0      0             0        0   \n",
       "\n",
       "   armagnac  artemisia  artichoke  ...  whiskey  white_bread  white_wine  \\\n",
       "0         0          0          0  ...        0            0           0   \n",
       "1         0          0          0  ...        0            0           0   \n",
       "2         0          0          0  ...        0            0           0   \n",
       "3         0          0          0  ...        0            0           0   \n",
       "4         0          0          0  ...        0            0           0   \n",
       "\n",
       "   whole_grain_wheat_flour  wine  wood  yam  yeast  yogurt  zucchini  \n",
       "0                        0     0     0    0      0       0         0  \n",
       "1                        0     0     0    0      0       0         0  \n",
       "2                        0     0     0    0      0       0         0  \n",
       "3                        0     0     0    0      0       0         0  \n",
       "4                        0     0     0    0      0       1         0  \n",
       "\n",
       "[5 rows x 380 columns]"
      ]
     },
     "execution_count": 3,
     "metadata": {},
     "output_type": "execute_result"
    }
   ],
   "source": [
    "X = data.iloc[:,2:]\n",
    "X.head()"
   ]
  },
  {
   "cell_type": "markdown",
   "id": "f3b31ee1",
   "metadata": {},
   "source": [
    "1. Save the labels as 'y':"
   ]
  },
  {
   "cell_type": "code",
   "execution_count": 4,
   "id": "38821813",
   "metadata": {},
   "outputs": [
    {
     "data": {
      "text/html": [
       "<div>\n",
       "<style scoped>\n",
       "    .dataframe tbody tr th:only-of-type {\n",
       "        vertical-align: middle;\n",
       "    }\n",
       "\n",
       "    .dataframe tbody tr th {\n",
       "        vertical-align: top;\n",
       "    }\n",
       "\n",
       "    .dataframe thead th {\n",
       "        text-align: right;\n",
       "    }\n",
       "</style>\n",
       "<table border=\"1\" class=\"dataframe\">\n",
       "  <thead>\n",
       "    <tr style=\"text-align: right;\">\n",
       "      <th></th>\n",
       "      <th>cuisine</th>\n",
       "    </tr>\n",
       "  </thead>\n",
       "  <tbody>\n",
       "    <tr>\n",
       "      <th>0</th>\n",
       "      <td>indian</td>\n",
       "    </tr>\n",
       "    <tr>\n",
       "      <th>1</th>\n",
       "      <td>indian</td>\n",
       "    </tr>\n",
       "    <tr>\n",
       "      <th>2</th>\n",
       "      <td>indian</td>\n",
       "    </tr>\n",
       "    <tr>\n",
       "      <th>3</th>\n",
       "      <td>indian</td>\n",
       "    </tr>\n",
       "    <tr>\n",
       "      <th>4</th>\n",
       "      <td>indian</td>\n",
       "    </tr>\n",
       "  </tbody>\n",
       "</table>\n",
       "</div>"
      ],
      "text/plain": [
       "  cuisine\n",
       "0  indian\n",
       "1  indian\n",
       "2  indian\n",
       "3  indian\n",
       "4  indian"
      ]
     },
     "execution_count": 4,
     "metadata": {},
     "output_type": "execute_result"
    }
   ],
   "source": [
    "y = data[['cuisine']]\n",
    "y.head()"
   ]
  },
  {
   "cell_type": "markdown",
   "id": "2a18bab0",
   "metadata": {},
   "source": [
    "### Commence the training routine\n",
    "\n",
    "We will use the 'SVC' library which has good accuracy.\n",
    "Import the appropriate libraries from Scikit-learn:"
   ]
  },
  {
   "cell_type": "code",
   "execution_count": 5,
   "id": "828cbaf2",
   "metadata": {},
   "outputs": [],
   "source": [
    "from sklearn.model_selection import train_test_split\n",
    "from sklearn.svm import SVC\n",
    "from sklearn.model_selection import cross_val_score\n",
    "from sklearn.metrics import accuracy_score,precision_score,confusion_matrix,classification_report\n"
   ]
  },
  {
   "cell_type": "markdown",
   "id": "9a34d90e",
   "metadata": {},
   "source": [
    "1. Separate training and test sets:"
   ]
  },
  {
   "cell_type": "code",
   "execution_count": 6,
   "id": "90683eaa",
   "metadata": {},
   "outputs": [],
   "source": [
    "X_train, X_test, y_train, y_test = train_test_split(X,y,test_size=0.3)"
   ]
  },
  {
   "cell_type": "markdown",
   "id": "dfcceaef",
   "metadata": {},
   "source": [
    "1. Build an SVC Classification model as you did in the previous lesson:"
   ]
  },
  {
   "cell_type": "code",
   "execution_count": 7,
   "id": "760c9d05",
   "metadata": {},
   "outputs": [
    {
     "data": {
      "text/html": [
       "<style>#sk-container-id-1 {color: black;}#sk-container-id-1 pre{padding: 0;}#sk-container-id-1 div.sk-toggleable {background-color: white;}#sk-container-id-1 label.sk-toggleable__label {cursor: pointer;display: block;width: 100%;margin-bottom: 0;padding: 0.3em;box-sizing: border-box;text-align: center;}#sk-container-id-1 label.sk-toggleable__label-arrow:before {content: \"▸\";float: left;margin-right: 0.25em;color: #696969;}#sk-container-id-1 label.sk-toggleable__label-arrow:hover:before {color: black;}#sk-container-id-1 div.sk-estimator:hover label.sk-toggleable__label-arrow:before {color: black;}#sk-container-id-1 div.sk-toggleable__content {max-height: 0;max-width: 0;overflow: hidden;text-align: left;background-color: #f0f8ff;}#sk-container-id-1 div.sk-toggleable__content pre {margin: 0.2em;color: black;border-radius: 0.25em;background-color: #f0f8ff;}#sk-container-id-1 input.sk-toggleable__control:checked~div.sk-toggleable__content {max-height: 200px;max-width: 100%;overflow: auto;}#sk-container-id-1 input.sk-toggleable__control:checked~label.sk-toggleable__label-arrow:before {content: \"▾\";}#sk-container-id-1 div.sk-estimator input.sk-toggleable__control:checked~label.sk-toggleable__label {background-color: #d4ebff;}#sk-container-id-1 div.sk-label input.sk-toggleable__control:checked~label.sk-toggleable__label {background-color: #d4ebff;}#sk-container-id-1 input.sk-hidden--visually {border: 0;clip: rect(1px 1px 1px 1px);clip: rect(1px, 1px, 1px, 1px);height: 1px;margin: -1px;overflow: hidden;padding: 0;position: absolute;width: 1px;}#sk-container-id-1 div.sk-estimator {font-family: monospace;background-color: #f0f8ff;border: 1px dotted black;border-radius: 0.25em;box-sizing: border-box;margin-bottom: 0.5em;}#sk-container-id-1 div.sk-estimator:hover {background-color: #d4ebff;}#sk-container-id-1 div.sk-parallel-item::after {content: \"\";width: 100%;border-bottom: 1px solid gray;flex-grow: 1;}#sk-container-id-1 div.sk-label:hover label.sk-toggleable__label {background-color: #d4ebff;}#sk-container-id-1 div.sk-serial::before {content: \"\";position: absolute;border-left: 1px solid gray;box-sizing: border-box;top: 0;bottom: 0;left: 50%;z-index: 0;}#sk-container-id-1 div.sk-serial {display: flex;flex-direction: column;align-items: center;background-color: white;padding-right: 0.2em;padding-left: 0.2em;position: relative;}#sk-container-id-1 div.sk-item {position: relative;z-index: 1;}#sk-container-id-1 div.sk-parallel {display: flex;align-items: stretch;justify-content: center;background-color: white;position: relative;}#sk-container-id-1 div.sk-item::before, #sk-container-id-1 div.sk-parallel-item::before {content: \"\";position: absolute;border-left: 1px solid gray;box-sizing: border-box;top: 0;bottom: 0;left: 50%;z-index: -1;}#sk-container-id-1 div.sk-parallel-item {display: flex;flex-direction: column;z-index: 1;position: relative;background-color: white;}#sk-container-id-1 div.sk-parallel-item:first-child::after {align-self: flex-end;width: 50%;}#sk-container-id-1 div.sk-parallel-item:last-child::after {align-self: flex-start;width: 50%;}#sk-container-id-1 div.sk-parallel-item:only-child::after {width: 0;}#sk-container-id-1 div.sk-dashed-wrapped {border: 1px dashed gray;margin: 0 0.4em 0.5em 0.4em;box-sizing: border-box;padding-bottom: 0.4em;background-color: white;}#sk-container-id-1 div.sk-label label {font-family: monospace;font-weight: bold;display: inline-block;line-height: 1.2em;}#sk-container-id-1 div.sk-label-container {text-align: center;}#sk-container-id-1 div.sk-container {/* jupyter's `normalize.less` sets `[hidden] { display: none; }` but bootstrap.min.css set `[hidden] { display: none !important; }` so we also need the `!important` here to be able to override the default hidden behavior on the sphinx rendered scikit-learn.org. See: https://github.com/scikit-learn/scikit-learn/issues/21755 */display: inline-block !important;position: relative;}#sk-container-id-1 div.sk-text-repr-fallback {display: none;}</style><div id=\"sk-container-id-1\" class=\"sk-top-container\"><div class=\"sk-text-repr-fallback\"><pre>SVC(C=10, kernel=&#x27;linear&#x27;, probability=True, random_state=0)</pre><b>In a Jupyter environment, please rerun this cell to show the HTML representation or trust the notebook. <br />On GitHub, the HTML representation is unable to render, please try loading this page with nbviewer.org.</b></div><div class=\"sk-container\" hidden><div class=\"sk-item\"><div class=\"sk-estimator sk-toggleable\"><input class=\"sk-toggleable__control sk-hidden--visually\" id=\"sk-estimator-id-1\" type=\"checkbox\" checked><label for=\"sk-estimator-id-1\" class=\"sk-toggleable__label sk-toggleable__label-arrow\">SVC</label><div class=\"sk-toggleable__content\"><pre>SVC(C=10, kernel=&#x27;linear&#x27;, probability=True, random_state=0)</pre></div></div></div></div></div>"
      ],
      "text/plain": [
       "SVC(C=10, kernel='linear', probability=True, random_state=0)"
      ]
     },
     "execution_count": 7,
     "metadata": {},
     "output_type": "execute_result"
    }
   ],
   "source": [
    "model = SVC(kernel='linear', C=10, probability=True, random_state=0)\n",
    "model.fit(X_train,y_train.values.ravel())\n"
   ]
  },
  {
   "cell_type": "markdown",
   "id": "bc91f0d5",
   "metadata": {},
   "source": [
    "1. Now, test your model, calling `predict()`:"
   ]
  },
  {
   "cell_type": "code",
   "execution_count": 8,
   "id": "5cf6e7d6",
   "metadata": {},
   "outputs": [],
   "source": [
    "y_pred = model.predict(X_test)\n"
   ]
  },
  {
   "cell_type": "markdown",
   "id": "6b33d1de",
   "metadata": {},
   "source": [
    "1. Print out a classification report to check the model's quality:"
   ]
  },
  {
   "cell_type": "code",
   "execution_count": 9,
   "id": "c452a73d",
   "metadata": {},
   "outputs": [
    {
     "name": "stdout",
     "output_type": "stream",
     "text": [
      "              precision    recall  f1-score   support\n",
      "\n",
      "     chinese       0.67      0.69      0.68       248\n",
      "      indian       0.87      0.86      0.86       245\n",
      "    japanese       0.73      0.72      0.72       225\n",
      "      korean       0.84      0.77      0.80       245\n",
      "        thai       0.73      0.79      0.76       236\n",
      "\n",
      "    accuracy                           0.77      1199\n",
      "   macro avg       0.77      0.77      0.77      1199\n",
      "weighted avg       0.77      0.77      0.77      1199\n",
      "\n"
     ]
    }
   ],
   "source": [
    "print(classification_report(y_test,y_pred))"
   ]
  },
  {
   "cell_type": "markdown",
   "id": "4cf57a1e",
   "metadata": {},
   "source": [
    "As we saw before, the accuracy is good:\n",
    "\n",
    "```output\n",
    "                precision    recall  f1-score   support\n",
    "\n",
    "     chinese       0.72      0.69      0.70       257\n",
    "      indian       0.91      0.87      0.89       243\n",
    "    japanese       0.79      0.77      0.78       239\n",
    "      korean       0.83      0.79      0.81       236\n",
    "        thai       0.72      0.84      0.78       224\n",
    "\n",
    "    accuracy                           0.79      1199\n",
    "   macro avg       0.79      0.79      0.79      1199\n",
    "weighted avg       0.79      0.79      0.79      1199\n",
    "```"
   ]
  },
  {
   "cell_type": "markdown",
   "id": "42acd17f",
   "metadata": {},
   "source": [
    "### Convert your model to Onnx\n",
    "\n",
    "Make sure to do the conversion with the proper Tensor number. This dataset has 380 ingredients listed, so you need to notate that number in `FloatTensorType`:\n",
    "Convert using a tensor number of 380."
   ]
  },
  {
   "cell_type": "code",
   "execution_count": 11,
   "id": "723236fe",
   "metadata": {},
   "outputs": [],
   "source": [
    "from skl2onnx import convert_sklearn\n",
    "from skl2onnx.common.data_types import FloatTensorType\n",
    "\n",
    "initial_type = [('float_input', FloatTensorType([None, 380]))]\n",
    "options = {id(model): {'nocl': True, 'zipmap': False}}"
   ]
  },
  {
   "cell_type": "markdown",
   "id": "8d156aef",
   "metadata": {},
   "source": [
    "1. Create the onx and store as a file **model.onnx**:"
   ]
  },
  {
   "cell_type": "code",
   "execution_count": 12,
   "id": "2da01e30",
   "metadata": {},
   "outputs": [],
   "source": [
    "onx = convert_sklearn(model, initial_types=initial_type, options=options)\n",
    "with open(\"./model.onnx\", \"wb\") as f:\n",
    "    f.write(onx.SerializeToString())"
   ]
  },
  {
   "cell_type": "markdown",
   "id": "b4f0d677",
   "metadata": {},
   "source": [
    "In this case, we passed in 'nocl' to be True and 'zipmap' to be False. Since this is a classification model, you have the option to remove ZipMap which produces a list of dictionaries (not necessary). nocl refers to class information being included in the model. Reduce your model's size by setting nocl to True. "
   ]
  },
  {
   "cell_type": "markdown",
   "id": "69828eb8",
   "metadata": {},
   "source": [
    "Running the entire notebook will now build an Onnx model and save it to this folder.\n",
    "\n",
    "## View your model\n",
    "\n",
    "Onnx models are not very visible in Visual Studio code, but there's a very good free software that many researchers use to visualize the model to ensure that it is properly built. Download [Netron](https://github.com/lutzroeder/Netron) and  open your model.onnx file. You can see your simple model visualized, with its 380 inputs and classifier listed:\n",
    "\n",
    "\n",
    "Netron is a helpful tool to view your models.\n",
    "\n",
    "Now you are ready to use this neat model in a web app. Let's build an app that will come in handy when you look in your refrigerator and try to figure out which combination of your leftover ingredients you can use to cook a given cuisine, as determined by your model.\n",
    "\n",
    "## Build a recommender web application\n",
    "\n",
    "You can use your model directly in a web app. This architecture also allows you to run it locally and even offline if needed. Start by creating an `index.html` file in the same folder where you stored your `model.onnx` file.\n",
    "\n",
    "1. In this file _index.html_, add the following markup:"
   ]
  },
  {
   "cell_type": "code",
   "execution_count": null,
   "id": "31fa3bf6",
   "metadata": {
    "vscode": {
     "languageId": "html"
    }
   },
   "outputs": [],
   "source": [
    "```html\n",
    "<!DOCTYPE html>\n",
    "<html>\n",
    "<header>\n",
    "    <title>Cuisine Matcher</title>\n",
    "</header>\n",
    "\n",
    "<body>\n",
    "    ...\n",
    "</body>\n",
    "\n",
    "</html>\n",
    "```"
   ]
  },
  {
   "cell_type": "markdown",
   "id": "b5edcb3f",
   "metadata": {},
   "source": [
    "1. Now, working within the `body` tags, add a little markup to show a list of checkboxes reflecting some ingredients:"
   ]
  },
  {
   "cell_type": "code",
   "execution_count": null,
   "id": "66b5b996",
   "metadata": {
    "vscode": {
     "languageId": "html"
    }
   },
   "outputs": [],
   "source": [
    "```html\n",
    "<h1>Check your refrigerator. What can you create?</h1>\n",
    "<div id=\"wrapper\">\n",
    "    <div class=\"boxCont\">\n",
    "        <input type=\"checkbox\" value=\"4\" class=\"checkbox\">\n",
    "        <label>apple</label>\n",
    "    </div>\n",
    "\n",
    "    <div class=\"boxCont\">\n",
    "        <input type=\"checkbox\" value=\"247\" class=\"checkbox\">\n",
    "        <label>pear</label>\n",
    "    </div>\n",
    "\n",
    "    <div class=\"boxCont\">\n",
    "        <input type=\"checkbox\" value=\"77\" class=\"checkbox\">\n",
    "        <label>cherry</label>\n",
    "    </div>\n",
    "\n",
    "    <div class=\"boxCont\">\n",
    "        <input type=\"checkbox\" value=\"126\" class=\"checkbox\">\n",
    "        <label>fenugreek</label>\n",
    "    </div>\n",
    "\n",
    "    <div class=\"boxCont\">\n",
    "        <input type=\"checkbox\" value=\"302\" class=\"checkbox\">\n",
    "        <label>sake</label>\n",
    "    </div>\n",
    "\n",
    "    <div class=\"boxCont\">\n",
    "        <input type=\"checkbox\" value=\"327\" class=\"checkbox\">\n",
    "        <label>soy sauce</label>\n",
    "    </div>\n",
    "\n",
    "    <div class=\"boxCont\">\n",
    "        <input type=\"checkbox\" value=\"112\" class=\"checkbox\">\n",
    "        <label>cumin</label>\n",
    "    </div>\n",
    "</div>\n",
    "<div style=\"padding-top:10px\">\n",
    "    <button onClick=\"startInference()\">What kind of cuisine can you make?</button>\n",
    "</div>\n",
    "```\n",
    "\n",
    "Notice that each checkbox is given a value. This reflects the index where the ingredient is found according to the\n",
    "dataset. Apple, for example, in this alphabetic list, occupies the fifth column, so its value is '4' since we start\n",
    "counting at 0. You can consult the [ingredients spreadsheet](../data/ingredient_indexes.csv) to discover a given\n",
    "ingredient's index.\n",
    "\n",
    "Continuing your work in the index.html file, add a script block where the model is called after the final closing `\n",
    "</div>`."
   ]
  },
  {
   "cell_type": "markdown",
   "id": "ebc9ab27",
   "metadata": {},
   "source": [
    "First, import the Onnx Runtime"
   ]
  },
  {
   "cell_type": "code",
   "execution_count": null,
   "id": "7d2a25cf",
   "metadata": {
    "vscode": {
     "languageId": "html"
    }
   },
   "outputs": [],
   "source": [
    "<script src=\"https://cdn.jsdelivr.net/npm/onnxruntime-web@1.9.0/dist/ort.min.js\"></script>"
   ]
  },
  {
   "cell_type": "markdown",
   "id": "5e3fcfa5",
   "metadata": {},
   "source": [
    "Onnx Runtime is used to enable running your Onnx models across a wide range of hardware platforms, including optimizations and an API to use."
   ]
  },
  {
   "cell_type": "markdown",
   "id": "75bb52f2",
   "metadata": {},
   "source": [
    "Once the Runtime is in place, you can call it:"
   ]
  },
  {
   "cell_type": "code",
   "execution_count": null,
   "id": "9f4e9903",
   "metadata": {
    "vscode": {
     "languageId": "html"
    }
   },
   "outputs": [],
   "source": [
    "<script>\n",
    "    const ingredients = Array(380).fill(0);\n",
    "\n",
    "    const checks = [...document.querySelectorAll('.checkbox')];\n",
    "\n",
    "    checks.forEach(check => {\n",
    "        check.addEventListener('change', function () {\n",
    "            // toggle the state of the ingredient\n",
    "            // based on the checkbox's value (1 or 0)\n",
    "            ingredients[check.value] = check.checked ? 1 : 0;\n",
    "        });\n",
    "    });\n",
    "\n",
    "    function testCheckboxes() {\n",
    "        // validate if at least one checkbox is checked\n",
    "        return checks.some(check => check.checked);\n",
    "    }\n",
    "\n",
    "    async function startInference() {\n",
    "\n",
    "        let atLeastOneChecked = testCheckboxes()\n",
    "\n",
    "        if (!atLeastOneChecked) {\n",
    "            alert('Please select at least one ingredient.');\n",
    "            return;\n",
    "        }\n",
    "        try {\n",
    "            // create a new session and load the model.\n",
    "\n",
    "            const session = await ort.InferenceSession.create('./model.onnx');\n",
    "\n",
    "            const input = new ort.Tensor(new Float32Array(ingredients), [1, 380]);\n",
    "            const feeds = { float_input: input };\n",
    "\n",
    "            // feed inputs and run\n",
    "            const results = await session.run(feeds);\n",
    "\n",
    "            // read from results\n",
    "            alert('You can enjoy ' + results.label.data[0] + ' cuisine today!')\n",
    "\n",
    "        } catch (e) {\n",
    "            console.log(`failed to inference ONNX model`);\n",
    "            console.error(e);\n",
    "        }\n",
    "    }\n",
    "\n",
    "</script>"
   ]
  },
  {
   "cell_type": "markdown",
   "id": "e7a6bd3e",
   "metadata": {},
   "source": [
    "In this code, there are several things happening:\n",
    "\n",
    "1. You created an array of 380 possible values (1 or 0) to be set and sent to the model for inference, depending on whether an ingredient checkbox is checked.\n",
    "2. You created an array of checkboxes and a way to determine whether they were checked in an `init` function that is called when the application starts. When a checkbox is checked, the `ingredients` array is altered to reflect the chosen ingredient.\n",
    "3. You created a `testCheckboxes` function that checks whether any checkbox was checked.\n",
    "4. You use `startInference` function when the button is pressed and, if any checkbox is checked, you start inference.\n",
    "5. The inference routine includes:\n",
    "   1. Setting up an asynchronous load of the model\n",
    "   2. Creating a Tensor structure to send to the model\n",
    "   3. Creating 'feeds' that reflects the `float_input` input that you created when training your model (you can use Netron to verify that name)\n",
    "   4. Sending these 'feeds' to the model and waiting for a response\n",
    "\n",
    "## Test your application\n",
    "\n",
    "Open a terminal session in Visual Studio Code in the folder where your index.html file resides. Ensure that you have [http-server]() installed globally, and type `http-server` at the prompt. A localhost should open and you can view your web app. Check what cuisine is recommended based on various ingredients:\n",
    "\n",
    "\n",
    "\n",
    "Congratulations, you have created a 'recommendation' web app  with a few fields. Take some time to build out this system!\n",
    "## 🚀YOUR\n",
    "\n",
    "Your web app is very minimal, so continue to build it out using ingredients and their indexes from the [ingredient_indexes](../data/ingredient_indexes.csv) data. What flavor combinations work to create a given national dish?\n",
    "\n",
    "## [Post-lecture quiz](https://gray-sand-07a10f403.1.azurestaticapps.net/quiz/26/)\n",
    "\n",
    "## Review & Self Study\n",
    "\n",
    "While this lesson just touched on the utility of creating a recommendation system for food ingredients, this area of ML applications is very rich in examples. Read some more about how these systems are built:\n",
    "\n",
    "- https://www.sciencedirect.com/topics/computer-science/recommendation-engine\n",
    "- https://www.technologyreview.com/2014/08/25/171547/the-ultimate-challenge-for-recommendation-engines/\n",
    "- https://www.technologyreview.com/2015/03/23/168831/everything-is-a-recommendation/\n",
    "\n",
    "## Assignment \n",
    "\n",
    "[Build a new recommender](assignment.md)"
   ]
  }
 ],
 "metadata": {
  "kernelspec": {
   "display_name": "base",
   "language": "python",
   "name": "python3"
  },
  "language_info": {
   "codemirror_mode": {
    "name": "ipython",
    "version": 3
   },
   "file_extension": ".py",
   "mimetype": "text/x-python",
   "name": "python",
   "nbconvert_exporter": "python",
   "pygments_lexer": "ipython3",
   "version": "3.11.5"
  }
 },
 "nbformat": 4,
 "nbformat_minor": 5
}
